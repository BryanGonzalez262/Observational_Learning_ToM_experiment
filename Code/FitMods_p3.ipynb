{
 "cells": [
  {
   "cell_type": "markdown",
   "metadata": {
    "collapsed": true,
    "pycharm": {
     "name": "#%% md\n"
    }
   },
   "source": [
    "# Generative Performance\n",
    "## Fitting models to player 2 (Trustee)"
   ]
  },
  {
   "cell_type": "code",
   "execution_count": 3,
   "outputs": [],
   "source": [
    "import sys\n",
    "sys.path.append('/Users/bryangonzalez/Documents/Dartmouth/Research/TheoryOfMind_Bx_experiment/Code/models/')\n",
    "sys.path.append('/Users/bryangonzalez/Documents/Dartmouth/Research/TheoryOfMind_Bx_experiment/Code/')\n",
    "import pandas as pd\n",
    "import numpy as np\n",
    "from scipy.optimize import least_squares\n",
    "import p3_cost_funcs\n",
    "import comp_models\n",
    "from utils import  folk_params, compute_aic, compute_bic\n",
    "\n",
    "\n",
    "dat = pd.read_csv('../data/bx_data.csv', index_col=0)\n",
    "\n",
    "results = pd.DataFrame(columns=['p2', 'p3', 'p2_strat', 'model', 'param1', 'param2', 'sse', 'aic', 'bic', 'fit_method'])\n",
    "\n",
    "\n",
    "\n",
    "niters = 100\n"
   ],
   "metadata": {
    "collapsed": false,
    "pycharm": {
     "name": "#%%\n"
    }
   }
  },
  {
   "cell_type": "markdown",
   "source": [
    "## Fit models to p3"
   ],
   "metadata": {
    "collapsed": false
   }
  },
  {
   "cell_type": "code",
   "execution_count": 2,
   "outputs": [
    {
     "name": "stdout",
     "output_type": "stream",
     "text": [
      "Fitting mental state space model to turker: 1.\n"
     ]
    },
    {
     "name": "stderr",
     "output_type": "stream",
     "text": [
      "/Users/bryangonzalez/Documents/Dartmouth/Research/TheoryOfMind_Bx_experiment/Code/models/p3_cost_funcs.py:26: SettingWithCopyWarning: \n",
      "A value is trying to be set on a copy of a slice from a DataFrame\n",
      "\n",
      "See the caveats in the documentation: https://pandas.pydata.org/pandas-docs/stable/user_guide/indexing.html#returning-a-view-versus-a-copy\n",
      "  model_predictions = pd.Series(mentalState_space(game, alpha, tau, nStates))\n",
      "/Users/bryangonzalez/Documents/Dartmouth/Research/TheoryOfMind_Bx_experiment/Code/models/comp_models.py:253: SettingWithCopyWarning: \n",
      "A value is trying to be set on a copy of a slice from a DataFrame.\n",
      "Try using .loc[row_indexer,col_indexer] = value instead\n",
      "\n",
      "See the caveats in the documentation: https://pandas.pydata.org/pandas-docs/stable/user_guide/indexing.html#returning-a-view-versus-a-copy\n",
      "  counterfactuals[theyta][phee] = mp_model_ppsoe(inv=game.inv.iloc[t], mult=game.mult.iloc[t], theta=theyta, phi=phee)\n"
     ]
    },
    {
     "ename": "KeyError",
     "evalue": "-0.1",
     "output_type": "error",
     "traceback": [
      "\u001B[0;31m---------------------------------------------------------------------------\u001B[0m",
      "\u001B[0;31mKeyError\u001B[0m                                  Traceback (most recent call last)",
      "\u001B[0;32m~/opt/anaconda3/envs/mTurk/lib/python3.7/site-packages/pandas/core/indexes/base.py\u001B[0m in \u001B[0;36mget_loc\u001B[0;34m(self, key, method, tolerance)\u001B[0m\n\u001B[1;32m   2645\u001B[0m             \u001B[0;32mtry\u001B[0m\u001B[0;34m:\u001B[0m\u001B[0;34m\u001B[0m\u001B[0;34m\u001B[0m\u001B[0m\n\u001B[0;32m-> 2646\u001B[0;31m                 \u001B[0;32mreturn\u001B[0m \u001B[0mself\u001B[0m\u001B[0;34m.\u001B[0m\u001B[0m_engine\u001B[0m\u001B[0;34m.\u001B[0m\u001B[0mget_loc\u001B[0m\u001B[0;34m(\u001B[0m\u001B[0mkey\u001B[0m\u001B[0;34m)\u001B[0m\u001B[0;34m\u001B[0m\u001B[0;34m\u001B[0m\u001B[0m\n\u001B[0m\u001B[1;32m   2647\u001B[0m             \u001B[0;32mexcept\u001B[0m \u001B[0mKeyError\u001B[0m\u001B[0;34m:\u001B[0m\u001B[0;34m\u001B[0m\u001B[0;34m\u001B[0m\u001B[0m\n",
      "\u001B[0;32mpandas/_libs/index.pyx\u001B[0m in \u001B[0;36mpandas._libs.index.IndexEngine.get_loc\u001B[0;34m()\u001B[0m\n",
      "\u001B[0;32mpandas/_libs/index.pyx\u001B[0m in \u001B[0;36mpandas._libs.index.IndexEngine.get_loc\u001B[0;34m()\u001B[0m\n",
      "\u001B[0;32mpandas/_libs/index.pyx\u001B[0m in \u001B[0;36mpandas._libs.index.IndexEngine._get_loc_duplicates\u001B[0;34m()\u001B[0m\n",
      "\u001B[0;31mKeyError\u001B[0m: -0.1",
      "\nDuring handling of the above exception, another exception occurred:\n",
      "\u001B[0;31mKeyError\u001B[0m                                  Traceback (most recent call last)",
      "\u001B[0;32m<ipython-input-2-06e5c93c86bb>\u001B[0m in \u001B[0;36m<module>\u001B[0;34m\u001B[0m\n\u001B[1;32m     12\u001B[0m         \u001B[0mfitIters\u001B[0m\u001B[0;34m[\u001B[0m\u001B[0mi\u001B[0m\u001B[0;34m,\u001B[0m\u001B[0;36m0\u001B[0m\u001B[0;34m:\u001B[0m\u001B[0;36m2\u001B[0m\u001B[0;34m]\u001B[0m \u001B[0;34m=\u001B[0m \u001B[0;34m[\u001B[0m\u001B[0mparam0\u001B[0m\u001B[0;34m[\u001B[0m\u001B[0;36m0\u001B[0m\u001B[0;34m]\u001B[0m\u001B[0;34m,\u001B[0m \u001B[0mparam0\u001B[0m\u001B[0;34m[\u001B[0m\u001B[0;36m1\u001B[0m\u001B[0;34m]\u001B[0m\u001B[0;34m]\u001B[0m\u001B[0;34m\u001B[0m\u001B[0;34m\u001B[0m\u001B[0m\n\u001B[1;32m     13\u001B[0m         result_lsq = least_squares(fun=p3_cost_funcs.mss_costfun, x0=param0,\n\u001B[0;32m---> 14\u001B[0;31m                                    args=(game, n_states), bounds=([0,.001], [1,1]), diff_step=.05)\n\u001B[0m\u001B[1;32m     15\u001B[0m \u001B[0;34m\u001B[0m\u001B[0m\n\u001B[1;32m     16\u001B[0m         \u001B[0;34m[\u001B[0m\u001B[0mparam1\u001B[0m\u001B[0;34m,\u001B[0m \u001B[0mparam2\u001B[0m\u001B[0;34m]\u001B[0m \u001B[0;34m=\u001B[0m \u001B[0mresult_lsq\u001B[0m\u001B[0;34m.\u001B[0m\u001B[0mx\u001B[0m\u001B[0;34m\u001B[0m\u001B[0;34m\u001B[0m\u001B[0m\n",
      "\u001B[0;32m~/opt/anaconda3/envs/mTurk/lib/python3.7/site-packages/scipy/optimize/_lsq/least_squares.py\u001B[0m in \u001B[0;36mleast_squares\u001B[0;34m(fun, x0, jac, bounds, method, ftol, xtol, gtol, x_scale, loss, f_scale, diff_step, tr_solver, tr_options, jac_sparsity, max_nfev, verbose, args, kwargs)\u001B[0m\n\u001B[1;32m    805\u001B[0m         \u001B[0mx0\u001B[0m \u001B[0;34m=\u001B[0m \u001B[0mmake_strictly_feasible\u001B[0m\u001B[0;34m(\u001B[0m\u001B[0mx0\u001B[0m\u001B[0;34m,\u001B[0m \u001B[0mlb\u001B[0m\u001B[0;34m,\u001B[0m \u001B[0mub\u001B[0m\u001B[0;34m)\u001B[0m\u001B[0;34m\u001B[0m\u001B[0;34m\u001B[0m\u001B[0m\n\u001B[1;32m    806\u001B[0m \u001B[0;34m\u001B[0m\u001B[0m\n\u001B[0;32m--> 807\u001B[0;31m     \u001B[0mf0\u001B[0m \u001B[0;34m=\u001B[0m \u001B[0mfun_wrapped\u001B[0m\u001B[0;34m(\u001B[0m\u001B[0mx0\u001B[0m\u001B[0;34m)\u001B[0m\u001B[0;34m\u001B[0m\u001B[0;34m\u001B[0m\u001B[0m\n\u001B[0m\u001B[1;32m    808\u001B[0m \u001B[0;34m\u001B[0m\u001B[0m\n\u001B[1;32m    809\u001B[0m     \u001B[0;32mif\u001B[0m \u001B[0mf0\u001B[0m\u001B[0;34m.\u001B[0m\u001B[0mndim\u001B[0m \u001B[0;34m!=\u001B[0m \u001B[0;36m1\u001B[0m\u001B[0;34m:\u001B[0m\u001B[0;34m\u001B[0m\u001B[0;34m\u001B[0m\u001B[0m\n",
      "\u001B[0;32m~/opt/anaconda3/envs/mTurk/lib/python3.7/site-packages/scipy/optimize/_lsq/least_squares.py\u001B[0m in \u001B[0;36mfun_wrapped\u001B[0;34m(x)\u001B[0m\n\u001B[1;32m    800\u001B[0m \u001B[0;34m\u001B[0m\u001B[0m\n\u001B[1;32m    801\u001B[0m     \u001B[0;32mdef\u001B[0m \u001B[0mfun_wrapped\u001B[0m\u001B[0;34m(\u001B[0m\u001B[0mx\u001B[0m\u001B[0;34m)\u001B[0m\u001B[0;34m:\u001B[0m\u001B[0;34m\u001B[0m\u001B[0;34m\u001B[0m\u001B[0m\n\u001B[0;32m--> 802\u001B[0;31m         \u001B[0;32mreturn\u001B[0m \u001B[0mnp\u001B[0m\u001B[0;34m.\u001B[0m\u001B[0matleast_1d\u001B[0m\u001B[0;34m(\u001B[0m\u001B[0mfun\u001B[0m\u001B[0;34m(\u001B[0m\u001B[0mx\u001B[0m\u001B[0;34m,\u001B[0m \u001B[0;34m*\u001B[0m\u001B[0margs\u001B[0m\u001B[0;34m,\u001B[0m \u001B[0;34m**\u001B[0m\u001B[0mkwargs\u001B[0m\u001B[0;34m)\u001B[0m\u001B[0;34m)\u001B[0m\u001B[0;34m\u001B[0m\u001B[0;34m\u001B[0m\u001B[0m\n\u001B[0m\u001B[1;32m    803\u001B[0m \u001B[0;34m\u001B[0m\u001B[0m\n\u001B[1;32m    804\u001B[0m     \u001B[0;32mif\u001B[0m \u001B[0mmethod\u001B[0m \u001B[0;34m==\u001B[0m \u001B[0;34m'trf'\u001B[0m\u001B[0;34m:\u001B[0m\u001B[0;34m\u001B[0m\u001B[0;34m\u001B[0m\u001B[0m\n",
      "\u001B[0;32m~/Documents/Dartmouth/Research/TheoryOfMind_Bx_experiment/Code/models/p3_cost_funcs.py\u001B[0m in \u001B[0;36mmss_costfun\u001B[0;34m(params, game, nStates)\u001B[0m\n\u001B[1;32m     24\u001B[0m     \u001B[0malpha\u001B[0m \u001B[0;34m=\u001B[0m \u001B[0mparams\u001B[0m\u001B[0;34m[\u001B[0m\u001B[0;36m0\u001B[0m\u001B[0;34m]\u001B[0m\u001B[0;34m\u001B[0m\u001B[0;34m\u001B[0m\u001B[0m\n\u001B[1;32m     25\u001B[0m     \u001B[0mtau\u001B[0m \u001B[0;34m=\u001B[0m \u001B[0mparams\u001B[0m\u001B[0;34m[\u001B[0m\u001B[0;36m1\u001B[0m\u001B[0;34m]\u001B[0m\u001B[0;34m\u001B[0m\u001B[0;34m\u001B[0m\u001B[0m\n\u001B[0;32m---> 26\u001B[0;31m     \u001B[0mmodel_predictions\u001B[0m \u001B[0;34m=\u001B[0m \u001B[0mpd\u001B[0m\u001B[0;34m.\u001B[0m\u001B[0mSeries\u001B[0m\u001B[0;34m(\u001B[0m\u001B[0mmentalState_space\u001B[0m\u001B[0;34m(\u001B[0m\u001B[0mgame\u001B[0m\u001B[0;34m,\u001B[0m \u001B[0malpha\u001B[0m\u001B[0;34m,\u001B[0m \u001B[0mtau\u001B[0m\u001B[0;34m,\u001B[0m \u001B[0mnStates\u001B[0m\u001B[0;34m)\u001B[0m\u001B[0;34m)\u001B[0m\u001B[0;34m\u001B[0m\u001B[0;34m\u001B[0m\u001B[0m\n\u001B[0m\u001B[1;32m     27\u001B[0m     \u001B[0mobservations\u001B[0m \u001B[0;34m=\u001B[0m \u001B[0mgame\u001B[0m\u001B[0;34m[\u001B[0m\u001B[0;34m'pred'\u001B[0m\u001B[0;34m]\u001B[0m\u001B[0;34m.\u001B[0m\u001B[0mreset_index\u001B[0m\u001B[0;34m(\u001B[0m\u001B[0mdrop\u001B[0m\u001B[0;34m=\u001B[0m\u001B[0;32mTrue\u001B[0m\u001B[0;34m)\u001B[0m\u001B[0;34m\u001B[0m\u001B[0;34m\u001B[0m\u001B[0m\n\u001B[1;32m     28\u001B[0m     \u001B[0mresiduals\u001B[0m \u001B[0;34m=\u001B[0m \u001B[0mmodel_predictions\u001B[0m \u001B[0;34m-\u001B[0m \u001B[0mobservations\u001B[0m\u001B[0;34m\u001B[0m\u001B[0;34m\u001B[0m\u001B[0m\n",
      "\u001B[0;32m~/Documents/Dartmouth/Research/TheoryOfMind_Bx_experiment/Code/models/comp_models.py\u001B[0m in \u001B[0;36mmentalState_space\u001B[0;34m(game, alpha, tau, n_states)\u001B[0m\n\u001B[1;32m    252\u001B[0m             \u001B[0;32mfor\u001B[0m \u001B[0mphee\u001B[0m \u001B[0;32min\u001B[0m \u001B[0mphi\u001B[0m\u001B[0;34m:\u001B[0m\u001B[0;34m\u001B[0m\u001B[0;34m\u001B[0m\u001B[0m\n\u001B[1;32m    253\u001B[0m                 \u001B[0mcounterfactuals\u001B[0m\u001B[0;34m[\u001B[0m\u001B[0mtheyta\u001B[0m\u001B[0;34m]\u001B[0m\u001B[0;34m[\u001B[0m\u001B[0mphee\u001B[0m\u001B[0;34m]\u001B[0m \u001B[0;34m=\u001B[0m \u001B[0mmp_model_ppsoe\u001B[0m\u001B[0;34m(\u001B[0m\u001B[0minv\u001B[0m\u001B[0;34m=\u001B[0m\u001B[0mgame\u001B[0m\u001B[0;34m.\u001B[0m\u001B[0minv\u001B[0m\u001B[0;34m.\u001B[0m\u001B[0miloc\u001B[0m\u001B[0;34m[\u001B[0m\u001B[0mt\u001B[0m\u001B[0;34m]\u001B[0m\u001B[0;34m,\u001B[0m \u001B[0mmult\u001B[0m\u001B[0;34m=\u001B[0m\u001B[0mgame\u001B[0m\u001B[0;34m.\u001B[0m\u001B[0mmult\u001B[0m\u001B[0;34m.\u001B[0m\u001B[0miloc\u001B[0m\u001B[0;34m[\u001B[0m\u001B[0mt\u001B[0m\u001B[0;34m]\u001B[0m\u001B[0;34m,\u001B[0m \u001B[0mtheta\u001B[0m\u001B[0;34m=\u001B[0m\u001B[0mtheyta\u001B[0m\u001B[0;34m,\u001B[0m \u001B[0mphi\u001B[0m\u001B[0;34m=\u001B[0m\u001B[0mphee\u001B[0m\u001B[0;34m)\u001B[0m\u001B[0;34m\u001B[0m\u001B[0;34m\u001B[0m\u001B[0m\n\u001B[0;32m--> 254\u001B[0;31m                 \u001B[0mpred_err\u001B[0m\u001B[0;34m[\u001B[0m\u001B[0mtheyta\u001B[0m\u001B[0;34m]\u001B[0m\u001B[0;34m[\u001B[0m\u001B[0mphee\u001B[0m\u001B[0;34m]\u001B[0m \u001B[0;34m=\u001B[0m \u001B[0mabs\u001B[0m\u001B[0;34m(\u001B[0m\u001B[0mgame\u001B[0m\u001B[0;34m.\u001B[0m\u001B[0mret\u001B[0m\u001B[0;34m.\u001B[0m\u001B[0miloc\u001B[0m\u001B[0;34m[\u001B[0m\u001B[0mt\u001B[0m\u001B[0;34m]\u001B[0m \u001B[0;34m-\u001B[0m \u001B[0mcounterfactuals\u001B[0m\u001B[0;34m[\u001B[0m\u001B[0mtheyta\u001B[0m\u001B[0;34m]\u001B[0m\u001B[0;34m[\u001B[0m\u001B[0mphee\u001B[0m\u001B[0;34m]\u001B[0m\u001B[0;34m)\u001B[0m  \u001B[0;31m# counterfactual predictions errors\u001B[0m\u001B[0;34m\u001B[0m\u001B[0;34m\u001B[0m\u001B[0m\n\u001B[0m\u001B[1;32m    255\u001B[0m                 \u001B[0;31m# probability update\u001B[0m\u001B[0;34m\u001B[0m\u001B[0;34m\u001B[0m\u001B[0;34m\u001B[0m\u001B[0m\n\u001B[1;32m    256\u001B[0m                 \u001B[0mp_strat\u001B[0m\u001B[0;34m[\u001B[0m\u001B[0mtheyta\u001B[0m\u001B[0;34m]\u001B[0m\u001B[0;34m[\u001B[0m\u001B[0mphee\u001B[0m\u001B[0;34m]\u001B[0m \u001B[0;34m=\u001B[0m \u001B[0mp_strat\u001B[0m\u001B[0;34m[\u001B[0m\u001B[0mtheyta\u001B[0m\u001B[0;34m]\u001B[0m\u001B[0;34m[\u001B[0m\u001B[0mphee\u001B[0m\u001B[0;34m]\u001B[0m \u001B[0;34m+\u001B[0m \u001B[0malpha\u001B[0m \u001B[0;34m*\u001B[0m \u001B[0;34m(\u001B[0m\u001B[0;34m(\u001B[0m\u001B[0;36m1\u001B[0m \u001B[0;34m-\u001B[0m \u001B[0;34m(\u001B[0m\u001B[0mpred_err\u001B[0m\u001B[0;34m[\u001B[0m\u001B[0mtheyta\u001B[0m\u001B[0;34m]\u001B[0m\u001B[0;34m[\u001B[0m\u001B[0mphee\u001B[0m\u001B[0;34m]\u001B[0m \u001B[0;34m/\u001B[0m \u001B[0;34m(\u001B[0m\u001B[0mgame\u001B[0m\u001B[0;34m.\u001B[0m\u001B[0mim\u001B[0m\u001B[0;34m.\u001B[0m\u001B[0miloc\u001B[0m\u001B[0;34m[\u001B[0m\u001B[0mt\u001B[0m\u001B[0;34m]\u001B[0m\u001B[0;34m)\u001B[0m\u001B[0;34m)\u001B[0m\u001B[0;34m)\u001B[0m \u001B[0;34m-\u001B[0m \u001B[0mp_strat\u001B[0m\u001B[0;34m[\u001B[0m\u001B[0mtheyta\u001B[0m\u001B[0;34m]\u001B[0m\u001B[0;34m[\u001B[0m\u001B[0mphee\u001B[0m\u001B[0;34m]\u001B[0m\u001B[0;34m)\u001B[0m\u001B[0;34m\u001B[0m\u001B[0;34m\u001B[0m\u001B[0m\n",
      "\u001B[0;32m~/opt/anaconda3/envs/mTurk/lib/python3.7/site-packages/pandas/core/frame.py\u001B[0m in \u001B[0;36m__getitem__\u001B[0;34m(self, key)\u001B[0m\n\u001B[1;32m   2798\u001B[0m             \u001B[0;32mif\u001B[0m \u001B[0mself\u001B[0m\u001B[0;34m.\u001B[0m\u001B[0mcolumns\u001B[0m\u001B[0;34m.\u001B[0m\u001B[0mnlevels\u001B[0m \u001B[0;34m>\u001B[0m \u001B[0;36m1\u001B[0m\u001B[0;34m:\u001B[0m\u001B[0;34m\u001B[0m\u001B[0;34m\u001B[0m\u001B[0m\n\u001B[1;32m   2799\u001B[0m                 \u001B[0;32mreturn\u001B[0m \u001B[0mself\u001B[0m\u001B[0;34m.\u001B[0m\u001B[0m_getitem_multilevel\u001B[0m\u001B[0;34m(\u001B[0m\u001B[0mkey\u001B[0m\u001B[0;34m)\u001B[0m\u001B[0;34m\u001B[0m\u001B[0;34m\u001B[0m\u001B[0m\n\u001B[0;32m-> 2800\u001B[0;31m             \u001B[0mindexer\u001B[0m \u001B[0;34m=\u001B[0m \u001B[0mself\u001B[0m\u001B[0;34m.\u001B[0m\u001B[0mcolumns\u001B[0m\u001B[0;34m.\u001B[0m\u001B[0mget_loc\u001B[0m\u001B[0;34m(\u001B[0m\u001B[0mkey\u001B[0m\u001B[0;34m)\u001B[0m\u001B[0;34m\u001B[0m\u001B[0;34m\u001B[0m\u001B[0m\n\u001B[0m\u001B[1;32m   2801\u001B[0m             \u001B[0;32mif\u001B[0m \u001B[0mis_integer\u001B[0m\u001B[0;34m(\u001B[0m\u001B[0mindexer\u001B[0m\u001B[0;34m)\u001B[0m\u001B[0;34m:\u001B[0m\u001B[0;34m\u001B[0m\u001B[0;34m\u001B[0m\u001B[0m\n\u001B[1;32m   2802\u001B[0m                 \u001B[0mindexer\u001B[0m \u001B[0;34m=\u001B[0m \u001B[0;34m[\u001B[0m\u001B[0mindexer\u001B[0m\u001B[0;34m]\u001B[0m\u001B[0;34m\u001B[0m\u001B[0;34m\u001B[0m\u001B[0m\n",
      "\u001B[0;32m~/opt/anaconda3/envs/mTurk/lib/python3.7/site-packages/pandas/core/indexes/numeric.py\u001B[0m in \u001B[0;36mget_loc\u001B[0;34m(self, key, method, tolerance)\u001B[0m\n\u001B[1;32m    506\u001B[0m         \u001B[0;32mexcept\u001B[0m \u001B[0;34m(\u001B[0m\u001B[0mTypeError\u001B[0m\u001B[0;34m,\u001B[0m \u001B[0mNotImplementedError\u001B[0m\u001B[0;34m)\u001B[0m\u001B[0;34m:\u001B[0m\u001B[0;34m\u001B[0m\u001B[0;34m\u001B[0m\u001B[0m\n\u001B[1;32m    507\u001B[0m             \u001B[0;32mpass\u001B[0m\u001B[0;34m\u001B[0m\u001B[0;34m\u001B[0m\u001B[0m\n\u001B[0;32m--> 508\u001B[0;31m         \u001B[0;32mreturn\u001B[0m \u001B[0msuper\u001B[0m\u001B[0;34m(\u001B[0m\u001B[0;34m)\u001B[0m\u001B[0;34m.\u001B[0m\u001B[0mget_loc\u001B[0m\u001B[0;34m(\u001B[0m\u001B[0mkey\u001B[0m\u001B[0;34m,\u001B[0m \u001B[0mmethod\u001B[0m\u001B[0;34m=\u001B[0m\u001B[0mmethod\u001B[0m\u001B[0;34m,\u001B[0m \u001B[0mtolerance\u001B[0m\u001B[0;34m=\u001B[0m\u001B[0mtolerance\u001B[0m\u001B[0;34m)\u001B[0m\u001B[0;34m\u001B[0m\u001B[0;34m\u001B[0m\u001B[0m\n\u001B[0m\u001B[1;32m    509\u001B[0m \u001B[0;34m\u001B[0m\u001B[0m\n\u001B[1;32m    510\u001B[0m     \u001B[0;34m@\u001B[0m\u001B[0mcache_readonly\u001B[0m\u001B[0;34m\u001B[0m\u001B[0;34m\u001B[0m\u001B[0m\n",
      "\u001B[0;32m~/opt/anaconda3/envs/mTurk/lib/python3.7/site-packages/pandas/core/indexes/base.py\u001B[0m in \u001B[0;36mget_loc\u001B[0;34m(self, key, method, tolerance)\u001B[0m\n\u001B[1;32m   2646\u001B[0m                 \u001B[0;32mreturn\u001B[0m \u001B[0mself\u001B[0m\u001B[0;34m.\u001B[0m\u001B[0m_engine\u001B[0m\u001B[0;34m.\u001B[0m\u001B[0mget_loc\u001B[0m\u001B[0;34m(\u001B[0m\u001B[0mkey\u001B[0m\u001B[0;34m)\u001B[0m\u001B[0;34m\u001B[0m\u001B[0;34m\u001B[0m\u001B[0m\n\u001B[1;32m   2647\u001B[0m             \u001B[0;32mexcept\u001B[0m \u001B[0mKeyError\u001B[0m\u001B[0;34m:\u001B[0m\u001B[0;34m\u001B[0m\u001B[0;34m\u001B[0m\u001B[0m\n\u001B[0;32m-> 2648\u001B[0;31m                 \u001B[0;32mreturn\u001B[0m \u001B[0mself\u001B[0m\u001B[0;34m.\u001B[0m\u001B[0m_engine\u001B[0m\u001B[0;34m.\u001B[0m\u001B[0mget_loc\u001B[0m\u001B[0;34m(\u001B[0m\u001B[0mself\u001B[0m\u001B[0;34m.\u001B[0m\u001B[0m_maybe_cast_indexer\u001B[0m\u001B[0;34m(\u001B[0m\u001B[0mkey\u001B[0m\u001B[0;34m)\u001B[0m\u001B[0;34m)\u001B[0m\u001B[0;34m\u001B[0m\u001B[0;34m\u001B[0m\u001B[0m\n\u001B[0m\u001B[1;32m   2649\u001B[0m         \u001B[0mindexer\u001B[0m \u001B[0;34m=\u001B[0m \u001B[0mself\u001B[0m\u001B[0;34m.\u001B[0m\u001B[0mget_indexer\u001B[0m\u001B[0;34m(\u001B[0m\u001B[0;34m[\u001B[0m\u001B[0mkey\u001B[0m\u001B[0;34m]\u001B[0m\u001B[0;34m,\u001B[0m \u001B[0mmethod\u001B[0m\u001B[0;34m=\u001B[0m\u001B[0mmethod\u001B[0m\u001B[0;34m,\u001B[0m \u001B[0mtolerance\u001B[0m\u001B[0;34m=\u001B[0m\u001B[0mtolerance\u001B[0m\u001B[0;34m)\u001B[0m\u001B[0;34m\u001B[0m\u001B[0;34m\u001B[0m\u001B[0m\n\u001B[1;32m   2650\u001B[0m         \u001B[0;32mif\u001B[0m \u001B[0mindexer\u001B[0m\u001B[0;34m.\u001B[0m\u001B[0mndim\u001B[0m \u001B[0;34m>\u001B[0m \u001B[0;36m1\u001B[0m \u001B[0;32mor\u001B[0m \u001B[0mindexer\u001B[0m\u001B[0;34m.\u001B[0m\u001B[0msize\u001B[0m \u001B[0;34m>\u001B[0m \u001B[0;36m1\u001B[0m\u001B[0;34m:\u001B[0m\u001B[0;34m\u001B[0m\u001B[0;34m\u001B[0m\u001B[0m\n",
      "\u001B[0;32mpandas/_libs/index.pyx\u001B[0m in \u001B[0;36mpandas._libs.index.IndexEngine.get_loc\u001B[0;34m()\u001B[0m\n",
      "\u001B[0;32mpandas/_libs/index.pyx\u001B[0m in \u001B[0;36mpandas._libs.index.IndexEngine.get_loc\u001B[0;34m()\u001B[0m\n",
      "\u001B[0;32mpandas/_libs/index.pyx\u001B[0m in \u001B[0;36mpandas._libs.index.IndexEngine._get_loc_duplicates\u001B[0;34m()\u001B[0m\n",
      "\u001B[0;31mKeyError\u001B[0m: -0.1"
     ]
    }
   ],
   "source": [
    "n_states = 8\n",
    "\n",
    "for turk in dat.turker_id.unique():\n",
    "    game = dat.loc[dat.turker_id == turk].reset_index(drop=True)\n",
    "\n",
    "    #Fit mental state space mode\n",
    "    model = 'mental state space'\n",
    "    print('Fitting '+model+' model to turker: '+str(turk)+'.')\n",
    "    fitIters = np.zeros([niters, 5])\n",
    "    for i in range(niters):\n",
    "        param0 = [np.random.uniform(), np.random.uniform(low=.001)]\n",
    "        fitIters[i,0:2] = [param0[0], param0[1]]\n",
    "        result_lsq = least_squares(fun=p3_cost_funcs.mss_costfun, x0=param0,\n",
    "                                   args=(game, n_states), bounds=([0,.001], [1,1]), diff_step=.05)\n",
    "\n",
    "        [param1, param2] = result_lsq.x\n",
    "        cost = result_lsq.cost\n",
    "        fitIters[i, 2:5] = [param1, param2, cost]\n",
    "    cost_selected = np.min(fitIters[:, 4])\n",
    "    alpha = fitIters[fitIters[:,4]== cost_selected, 2][0]\n",
    "    tau = fitIters[fitIters[:,4]== cost_selected, 3][0]\n",
    "    sse = cost_selected* 2\n",
    "    results = results.append(pd.DataFrame(\n",
    "        [[game['trustee'].values[0], game['turker_id'].values[0], game['p2_strat'].values[0],\n",
    "          model, alpha, tau, sse, compute_aic(len(game), sse, 2), compute_bic(len(game), sse, 2),\n",
    "          'least_squares_'+str(niters)+'iters'\n",
    "          ]],\n",
    "        columns=results.columns\n",
    "    ))\n",
    "\n",
    "    if turk%5 == 0:\n",
    "        results.to_csv('results/lstsqrs_fit2_p3_100iters_mss.csv')\n",
    "'''\n",
    "    #Fit Rescorla Wagner\n",
    "    model = 'rescorla-wagner'\n",
    "    print('Fitting '+model+' model turker: '+str(turk)+'.')\n",
    "    fitIters = np.zeros([niters, 5])\n",
    "    for i in range(niters):\n",
    "        param0 = np.random.uniform()\n",
    "        fitIters[i,0:2] = [param0, np.nan]\n",
    "        result_lsq = least_squares(fun=p3_cost_funcs.rw_costfun, x0=param0, args=(game, ), bounds=(0,1), diff_step=.05)\n",
    "\n",
    "        param1 = result_lsq.x\n",
    "        cost = result_lsq.cost\n",
    "        fitIters[i, 2:5] = [param1, np.nan, cost]\n",
    "    cost_selected = np.min(fitIters[:, 4])\n",
    "    alpha = fitIters[fitIters[:,4]== cost_selected, 2][0]\n",
    "    sse = cost_selected* 2\n",
    "    results = results.append(pd.DataFrame(\n",
    "        [[game['trustee'].values[0], game['turker_id'].values[0], game['p2_strat'].values[0],\n",
    "          model, alpha,np.nan, sse, compute_aic(len(game), sse, 1), compute_bic(len(game), sse, 1),\n",
    "          'least_squares_'+str(niters)+'iters'\n",
    "          ]],\n",
    "        columns=results.columns\n",
    "    ))\n",
    "\n",
    "\n",
    "    #Fit Inverse Motivation Model\n",
    "    model = 'inverse motive'\n",
    "    print('Fitting '+model+' model to turker: '+str(turk)+'.')\n",
    "    fitIters = np.zeros([niters, 5])\n",
    "    for i in range(niters):\n",
    "        param0 = [np.random.uniform(), np.random.uniform(low=.001)]\n",
    "        fitIters[i,0:2] = [param0[0], param0[1]]\n",
    "        result_lsq = least_squares(fun=p3_cost_funcs.imm_costfun, x0=param0,\n",
    "                                   args=(game, folk_params ), bounds=([0,.001], [1,1]), diff_step=.05)\n",
    "\n",
    "        [param1, param2] = result_lsq.x\n",
    "        cost = result_lsq.cost\n",
    "        fitIters[i, 2:5] = [param1, param2, cost]\n",
    "    cost_selected = np.min(fitIters[:, 4])\n",
    "    alpha = fitIters[fitIters[:,4]== cost_selected, 2][0]\n",
    "    tau = fitIters[fitIters[:,4]== cost_selected, 3][0]\n",
    "    sse = cost_selected* 2\n",
    "    results = results.append(pd.DataFrame(\n",
    "        [[game['trustee'].values[0], game['turker_id'].values[0], game['p2_strat'].values[0],\n",
    "          model, alpha, tau, sse, compute_aic(len(game), sse, 2), compute_bic(len(game), sse, 2),\n",
    "          'least_squares_'+str(niters)+'iters'\n",
    "          ]],\n",
    "        columns=results.columns\n",
    "    ))\n",
    "\n",
    "\n",
    "    # \"Fit\" Greed Model\n",
    "    model = 'greed'\n",
    "    print('Fitting '+model+' model to turker: '+str(turk)+'.')\n",
    "    sse = sum(np.square(p3_cost_funcs.gr_costfun(game)))\n",
    "    results = results.append(pd.DataFrame(\n",
    "        [[game['trustee'].values[0], game['turker_id'].values[0], game['p2_strat'].values[0],\n",
    "          model, np.nan, np.nan, sse, compute_aic(len(game), sse, 0), compute_bic(len(game), sse, 0),\n",
    "          'least_squares_'+str(niters)+'iters'\n",
    "          ]],\n",
    "        columns=results.columns\n",
    "    ))\n",
    "\n",
    "\n",
    "    #Fit Guilt-aversion model\n",
    "    model = 'guilt-aversion'\n",
    "    print('Fitting '+model+' model to turker: '+str(turk)+'.')\n",
    "    for i in range(niters):\n",
    "        param0 = np.random.uniform()*10000\n",
    "        fitIters[i,0:2] = [param0, np.nan]\n",
    "        result_lsq = least_squares(fun=p3_cost_funcs.ga_costfun, x0=param0,\n",
    "                                   args=(game, ), bounds=([0],[10000]))\n",
    "\n",
    "        param1 = result_lsq.x\n",
    "        cost = result_lsq.cost\n",
    "        fitIters[i, 2:5] = [param1, np.nan, cost]\n",
    "    cost_selected = np.min(fitIters[:, 4])\n",
    "    theta = fitIters[fitIters[:,4]== cost_selected, 2][0]\n",
    "    sse = cost_selected* 2\n",
    "    results = results.append(pd.DataFrame(\n",
    "        [[game['trustee'].values[0], game['turker_id'].values[0], game['p2_strat'].values[0],\n",
    "          model, theta, np.nan, sse, compute_aic(len(game), sse, 1), compute_bic(len(game), sse, 1),\n",
    "          'least_squares_'+str(niters)+'iters'\n",
    "          ]],\n",
    "        columns=results.columns\n",
    "    ))\n",
    "\n",
    "\n",
    "    #Fit Inequity-aversion model\n",
    "    model = 'inequity-aversion'\n",
    "    print('Fitting '+model+' model to turker: '+str(turk)+'.')\n",
    "    for i in range(niters):\n",
    "        param0 = np.random.uniform()*10000\n",
    "        fitIters[i,0:2] = [param0, np.nan]\n",
    "        result_lsq = least_squares(fun=p3_cost_funcs.ia_costfun, x0=param0,\n",
    "                                   args=(game, ), bounds=([0],[10000]))\n",
    "\n",
    "        param1 = result_lsq.x\n",
    "        cost = result_lsq.cost\n",
    "        fitIters[i, 2:5] = [param1, np.nan, cost]\n",
    "    cost_selected = np.min(fitIters[:, 4])\n",
    "    theta = fitIters[fitIters[:,4]== cost_selected, 2][0]\n",
    "    sse = cost_selected* 2\n",
    "    results = results.append(pd.DataFrame(\n",
    "        [[game['trustee'].values[0], game['turker_id'].values[0], game['p2_strat'].values[0],\n",
    "          model, theta, np.nan, sse, compute_aic(len(game), sse, 1), compute_bic(len(game), sse, 1),\n",
    "          'least_squares_'+str(niters)+'iters'\n",
    "          ]],\n",
    "        columns=results.columns\n",
    "    ))\n",
    "\n",
    "\n",
    "    #Fit Moral Phenotype model\n",
    "    model = 'moral phenotype'\n",
    "    print('Fitting '+model+' model to turker: '+str(turk)+'.')\n",
    "    fitIters = np.zeros([niters, 5])\n",
    "    for i in range(niters):\n",
    "        param0 = [np.random.uniform()/2, np.random.uniform()/5-0.1]\n",
    "        fitIters[i,0:2] = [param0[0], param0[1]]\n",
    "        result_lsq = least_squares(fun=p3_cost_funcs.mp_costfun, x0=param0, args=(game, ),\n",
    "                                   bounds=([0,-.1], [.5,.1]))\n",
    "\n",
    "        [param1, param2] = result_lsq.x\n",
    "        cost = result_lsq.cost\n",
    "        fitIters[i, 2:5] = [param1, param2, cost]\n",
    "    cost_selected = np.min(fitIters[:, 4])\n",
    "    theyta = fitIters[fitIters[:,4]== cost_selected, 2][0]\n",
    "    phee = fitIters[fitIters[:,4]== cost_selected, 3][0]\n",
    "    sse = cost_selected* 2\n",
    "    results = results.append(pd.DataFrame(\n",
    "        [[game['trustee'].values[0], game['turker_id'].values[0], game['p2_strat'].values[0],\n",
    "          model, theyta, phee, sse, compute_aic(len(game), sse, 2), compute_bic(len(game), sse, 2),\n",
    "          'least_squares_'+str(niters)+'iters'\n",
    "          ]],\n",
    "        columns=results.columns\n",
    "    ))\n",
    "\n",
    "    if turk%5 == 0:\n",
    "        results.to_csv('results/lstsqrs_fit2_p3_100iters_mss.csv')\n",
    "'''"
   ],
   "metadata": {
    "collapsed": false,
    "pycharm": {
     "name": "#%%\n"
    }
   }
  },
  {
   "cell_type": "code",
   "execution_count": null,
   "outputs": [],
   "source": [
    "results.to_csv('results/lstsqrs_fit2_p3_100iters_mss.csv')"
   ],
   "metadata": {
    "collapsed": false,
    "pycharm": {
     "name": "#%%\n"
    }
   }
  },
  {
   "cell_type": "code",
   "execution_count": null,
   "outputs": [],
   "source": [],
   "metadata": {
    "collapsed": false,
    "pycharm": {
     "name": "#%%\n"
    }
   }
  }
 ],
 "metadata": {
  "kernelspec": {
   "name": "pycharm-af21bf38",
   "language": "python",
   "display_name": "PyCharm (TheoryOfMind_Bx_experiment)"
  },
  "language_info": {
   "codemirror_mode": {
    "name": "ipython",
    "version": 2
   },
   "file_extension": ".py",
   "mimetype": "text/x-python",
   "name": "python",
   "nbconvert_exporter": "python",
   "pygments_lexer": "ipython2",
   "version": "2.7.6"
  }
 },
 "nbformat": 4,
 "nbformat_minor": 0
}