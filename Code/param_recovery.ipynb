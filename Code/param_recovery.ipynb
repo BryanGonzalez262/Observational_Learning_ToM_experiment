{
 "cells": [
  {
   "cell_type": "code",
   "execution_count": 1,
   "metadata": {
    "collapsed": true
   },
   "outputs": [
    {
     "data": {
      "text/plain": "   trustee  turker_id  trial  inv  mult  im  exp  pred  ret p2_strat\n0       93          1      0    5     2  10   10     5    7       GA\n1       93          1      1    9     2  18   18     7   14       GA\n2       93          1      2    8     4  32   16    20   16       GA\n3       93          1      3    5     4  20   10     9   10       GA\n4       93          1      4    3     2   6    6     3    4       GA",
      "text/html": "<div>\n<style scoped>\n    .dataframe tbody tr th:only-of-type {\n        vertical-align: middle;\n    }\n\n    .dataframe tbody tr th {\n        vertical-align: top;\n    }\n\n    .dataframe thead th {\n        text-align: right;\n    }\n</style>\n<table border=\"1\" class=\"dataframe\">\n  <thead>\n    <tr style=\"text-align: right;\">\n      <th></th>\n      <th>trustee</th>\n      <th>turker_id</th>\n      <th>trial</th>\n      <th>inv</th>\n      <th>mult</th>\n      <th>im</th>\n      <th>exp</th>\n      <th>pred</th>\n      <th>ret</th>\n      <th>p2_strat</th>\n    </tr>\n  </thead>\n  <tbody>\n    <tr>\n      <th>0</th>\n      <td>93</td>\n      <td>1</td>\n      <td>0</td>\n      <td>5</td>\n      <td>2</td>\n      <td>10</td>\n      <td>10</td>\n      <td>5</td>\n      <td>7</td>\n      <td>GA</td>\n    </tr>\n    <tr>\n      <th>1</th>\n      <td>93</td>\n      <td>1</td>\n      <td>1</td>\n      <td>9</td>\n      <td>2</td>\n      <td>18</td>\n      <td>18</td>\n      <td>7</td>\n      <td>14</td>\n      <td>GA</td>\n    </tr>\n    <tr>\n      <th>2</th>\n      <td>93</td>\n      <td>1</td>\n      <td>2</td>\n      <td>8</td>\n      <td>4</td>\n      <td>32</td>\n      <td>16</td>\n      <td>20</td>\n      <td>16</td>\n      <td>GA</td>\n    </tr>\n    <tr>\n      <th>3</th>\n      <td>93</td>\n      <td>1</td>\n      <td>3</td>\n      <td>5</td>\n      <td>4</td>\n      <td>20</td>\n      <td>10</td>\n      <td>9</td>\n      <td>10</td>\n      <td>GA</td>\n    </tr>\n    <tr>\n      <th>4</th>\n      <td>93</td>\n      <td>1</td>\n      <td>4</td>\n      <td>3</td>\n      <td>2</td>\n      <td>6</td>\n      <td>6</td>\n      <td>3</td>\n      <td>4</td>\n      <td>GA</td>\n    </tr>\n  </tbody>\n</table>\n</div>"
     },
     "execution_count": 1,
     "metadata": {},
     "output_type": "execute_result"
    }
   ],
   "source": [
    "import sys\n",
    "sys.path.append('/Users/bryangonzalez/Documents/Dartmouth/Research/TheoryOfMind_Bx_experiment/Code/models/')\n",
    "sys.path.append('/Users/bryangonzalez/Documents/Dartmouth/Research/TheoryOfMind_Bx_experiment/Code/')\n",
    "import pandas as pd\n",
    "import numpy as np\n",
    "import scipy\n",
    "from scipy.optimize import least_squares\n",
    "import p3_cost_funcs\n",
    "import comp_models\n",
    "import utils\n",
    "import seaborn as sns\n",
    "\n",
    "\n",
    "dat = pd.read_csv('../data/bx_data.csv', index_col=0)\n",
    "dat = dat[['trustee','turker_id', 'trial', 'inv','mult', 'im', 'exp','pred', 'ret', 'p2_strat']]\n",
    "\n",
    "niter = 300\n",
    "results = pd.DataFrame(columns=['trueAlpha', 'trueTau', 'recovAlpha', 'recovTau', 'cost', 'r'])\n",
    "dat.head()"
   ]
  },
  {
   "cell_type": "code",
   "execution_count": null,
   "outputs": [
    {
     "name": "stdout",
     "output_type": "stream",
     "text": [
      "simulating/recovering turker: 1\n",
      "simulating/recovering turker: 3\n"
     ]
    }
   ],
   "source": [
    "for turk in dat.turker_id.unique()[:10]:\n",
    "    print('simulating/recovering turker:', turk)\n",
    "    # simulate with arbitrary params\n",
    "    game = dat.loc[dat.turker_id == turk]\n",
    "    truAlpha = np.random.uniform()\n",
    "    truTau = np.random.uniform(low=.001)\n",
    "    truGame = game.copy()\n",
    "    truGame['pred'] = comp_models.imm_learn(game=truGame,folk_thry=utils.folk_params, alpha=truAlpha,tau=truTau)\n",
    "    #Fit the simulation\n",
    "    fitIters = np.zeros([niter, 5])\n",
    "    for i in range(niter):\n",
    "        param0 = [np.random.uniform(), np.random.uniform(low=.001)]\n",
    "        fitIters[i,0:2] = [param0[0], param0[1]]\n",
    "        result_lsq = least_squares(fun=p3_cost_funcs.imm_costfun, x0=param0, args=(truGame,utils.folk_params ),\n",
    "                                   bounds=([0,.001], [1,1]), diff_step=.05)\n",
    "\n",
    "        [param1, param2] = result_lsq.x\n",
    "        cost = result_lsq.cost\n",
    "        fitIters[i, 2:5] = [param1, param2, cost]\n",
    "    cost_selected = np.min(fitIters[:, 4])\n",
    "    recovAlpha = fitIters[fitIters[:,4]== cost_selected, 2][0]\n",
    "    recovTau = fitIters[fitIters[:,4]== cost_selected, 3][0]\n",
    "    sse = cost_selected* 2\n",
    "    #simulate with fitted params\n",
    "    recovGame = game.copy()\n",
    "    recovGame['pred'] = comp_models.imm_learn(game=recovGame,folk_thry=utils.folk_params, alpha=recovAlpha,tau= recovTau).astype(int).tolist()\n",
    "    # correlate initial and recovered model predictions\n",
    "    r = scipy.stats.pearsonr( truGame['pred'], recovGame['pred'] )[0]\n",
    "    results = results.append(pd.DataFrame([[truAlpha, truTau, recovAlpha, recovTau, sse, r]],\n",
    "                                          columns=results.columns)).reset_index(drop=True)\n",
    "   # if turk%5 == 0:\n",
    "    #    results.to_csv('results/param_recov_'+str(niter)+'iters_newBounds.csv', sep=',')"
   ],
   "metadata": {
    "collapsed": false,
    "pycharm": {
     "name": "#%%\n",
     "is_executing": true
    }
   }
  },
  {
   "cell_type": "code",
   "execution_count": 6,
   "outputs": [],
   "source": [
    "results.to_csv('results/param_recov_'+str(niter)+'iters.csv', sep=',')\n"
   ],
   "metadata": {
    "collapsed": false,
    "pycharm": {
     "name": "#%%\n"
    }
   }
  },
  {
   "cell_type": "code",
   "execution_count": 24,
   "outputs": [],
   "source": [
    "results = pd.read_csv('results/param_recov_300iters.csv', index_col=0).reset_index(drop=True)\n",
    "\n",
    "results['r_val'] = [float(results['r'][x].strip(')(').split(',')[0]) for x in np.arange(len(results))]\n",
    "results['corr_pVal'] = [float(results['r'][x].strip(')(').split(',')[1]) for x in np.arange(len(results))]"
   ],
   "metadata": {
    "collapsed": false,
    "pycharm": {
     "name": "#%%\n"
    }
   }
  },
  {
   "cell_type": "code",
   "execution_count": 31,
   "outputs": [
    {
     "name": "stdout",
     "output_type": "stream",
     "text": [
      "0.5305454756327087\n",
      "(-0.0032519565442005495, 0.9483047672823087)\n",
      "(0.12045695834534006, 0.015935804412247952)\n"
     ]
    },
    {
     "data": {
      "text/plain": "Ttest_1sampResult(statistic=85.93867093720115, pvalue=1.609203566732394e-259)"
     },
     "execution_count": 31,
     "metadata": {},
     "output_type": "execute_result"
    }
   ],
   "source": [
    "trialCorr = np.mean(results['r_val'])\n",
    "alphaCorr = scipy.stats.pearsonr(results['trueAlpha'],results['recovAlpha'])\n",
    "tauCorr = scipy.stats.pearsonr(results['trueTau'],results['recoveTau'])\n",
    "print(trialCorr)\n",
    "print(alphaCorr)\n",
    "print(tauCorr)\n",
    "scipy.stats.ttest_1samp(results['r_val'],0,nan_policy='omit')"
   ],
   "metadata": {
    "collapsed": false,
    "pycharm": {
     "name": "#%%\n"
    }
   }
  },
  {
   "cell_type": "code",
   "execution_count": 32,
   "outputs": [
    {
     "data": {
      "text/plain": "<matplotlib.axes._subplots.AxesSubplot at 0x7f97178e1350>"
     },
     "execution_count": 32,
     "metadata": {},
     "output_type": "execute_result"
    },
    {
     "data": {
      "text/plain": "<Figure size 432x288 with 1 Axes>",
      "image/png": "[encoded data removed]"
     },
     "metadata": {
      "needs_background": "light"
     },
     "output_type": "display_data"
    }
   ],
   "source": [
    "import seaborn as sns\n",
    "sns.scatterplot(x='trueAlpha', y='recovAlpha', data=results)"
   ],
   "metadata": {
    "collapsed": false,
    "pycharm": {
     "name": "#%%\n"
    }
   }
  },
  {
   "cell_type": "code",
   "execution_count": 28,
   "outputs": [
    {
     "ename": "KeyError",
     "evalue": "'truAlpha'",
     "output_type": "error",
     "traceback": [
      "\u001B[0;31m---------------------------------------------------------------------------\u001B[0m",
      "\u001B[0;31mKeyError\u001B[0m                                  Traceback (most recent call last)",
      "\u001B[0;32m~/opt/anaconda3/envs/mTurk/lib/python3.7/site-packages/pandas/core/indexes/base.py\u001B[0m in \u001B[0;36mget_loc\u001B[0;34m(self, key, method, tolerance)\u001B[0m\n\u001B[1;32m   2645\u001B[0m             \u001B[0;32mtry\u001B[0m\u001B[0;34m:\u001B[0m\u001B[0;34m\u001B[0m\u001B[0;34m\u001B[0m\u001B[0m\n\u001B[0;32m-> 2646\u001B[0;31m                 \u001B[0;32mreturn\u001B[0m \u001B[0mself\u001B[0m\u001B[0;34m.\u001B[0m\u001B[0m_engine\u001B[0m\u001B[0;34m.\u001B[0m\u001B[0mget_loc\u001B[0m\u001B[0;34m(\u001B[0m\u001B[0mkey\u001B[0m\u001B[0;34m)\u001B[0m\u001B[0;34m\u001B[0m\u001B[0;34m\u001B[0m\u001B[0m\n\u001B[0m\u001B[1;32m   2647\u001B[0m             \u001B[0;32mexcept\u001B[0m \u001B[0mKeyError\u001B[0m\u001B[0;34m:\u001B[0m\u001B[0;34m\u001B[0m\u001B[0;34m\u001B[0m\u001B[0m\n",
      "\u001B[0;32mpandas/_libs/index.pyx\u001B[0m in \u001B[0;36mpandas._libs.index.IndexEngine.get_loc\u001B[0;34m()\u001B[0m\n",
      "\u001B[0;32mpandas/_libs/index.pyx\u001B[0m in \u001B[0;36mpandas._libs.index.IndexEngine.get_loc\u001B[0;34m()\u001B[0m\n",
      "\u001B[0;32mpandas/_libs/hashtable_class_helper.pxi\u001B[0m in \u001B[0;36mpandas._libs.hashtable.PyObjectHashTable.get_item\u001B[0;34m()\u001B[0m\n",
      "\u001B[0;32mpandas/_libs/hashtable_class_helper.pxi\u001B[0m in \u001B[0;36mpandas._libs.hashtable.PyObjectHashTable.get_item\u001B[0;34m()\u001B[0m\n",
      "\u001B[0;31mKeyError\u001B[0m: 'truAlpha'",
      "\nDuring handling of the above exception, another exception occurred:\n",
      "\u001B[0;31mKeyError\u001B[0m                                  Traceback (most recent call last)",
      "\u001B[0;32m<ipython-input-28-3b88bc7c08c3>\u001B[0m in \u001B[0;36m<module>\u001B[0;34m\u001B[0m\n\u001B[0;32m----> 1\u001B[0;31m \u001B[0mscipy\u001B[0m\u001B[0;34m.\u001B[0m\u001B[0mstats\u001B[0m\u001B[0;34m.\u001B[0m\u001B[0mpearsonr\u001B[0m\u001B[0;34m(\u001B[0m\u001B[0mresults\u001B[0m\u001B[0;34m[\u001B[0m\u001B[0;34m'truAlpha'\u001B[0m\u001B[0;34m]\u001B[0m\u001B[0;34m,\u001B[0m\u001B[0mresults\u001B[0m\u001B[0;34m[\u001B[0m\u001B[0;34m'recovAlpha'\u001B[0m\u001B[0;34m]\u001B[0m\u001B[0;34m)\u001B[0m\u001B[0;34m\u001B[0m\u001B[0;34m\u001B[0m\u001B[0m\n\u001B[0m",
      "\u001B[0;32m~/opt/anaconda3/envs/mTurk/lib/python3.7/site-packages/pandas/core/frame.py\u001B[0m in \u001B[0;36m__getitem__\u001B[0;34m(self, key)\u001B[0m\n\u001B[1;32m   2798\u001B[0m             \u001B[0;32mif\u001B[0m \u001B[0mself\u001B[0m\u001B[0;34m.\u001B[0m\u001B[0mcolumns\u001B[0m\u001B[0;34m.\u001B[0m\u001B[0mnlevels\u001B[0m \u001B[0;34m>\u001B[0m \u001B[0;36m1\u001B[0m\u001B[0;34m:\u001B[0m\u001B[0;34m\u001B[0m\u001B[0;34m\u001B[0m\u001B[0m\n\u001B[1;32m   2799\u001B[0m                 \u001B[0;32mreturn\u001B[0m \u001B[0mself\u001B[0m\u001B[0;34m.\u001B[0m\u001B[0m_getitem_multilevel\u001B[0m\u001B[0;34m(\u001B[0m\u001B[0mkey\u001B[0m\u001B[0;34m)\u001B[0m\u001B[0;34m\u001B[0m\u001B[0;34m\u001B[0m\u001B[0m\n\u001B[0;32m-> 2800\u001B[0;31m             \u001B[0mindexer\u001B[0m \u001B[0;34m=\u001B[0m \u001B[0mself\u001B[0m\u001B[0;34m.\u001B[0m\u001B[0mcolumns\u001B[0m\u001B[0;34m.\u001B[0m\u001B[0mget_loc\u001B[0m\u001B[0;34m(\u001B[0m\u001B[0mkey\u001B[0m\u001B[0;34m)\u001B[0m\u001B[0;34m\u001B[0m\u001B[0;34m\u001B[0m\u001B[0m\n\u001B[0m\u001B[1;32m   2801\u001B[0m             \u001B[0;32mif\u001B[0m \u001B[0mis_integer\u001B[0m\u001B[0;34m(\u001B[0m\u001B[0mindexer\u001B[0m\u001B[0;34m)\u001B[0m\u001B[0;34m:\u001B[0m\u001B[0;34m\u001B[0m\u001B[0;34m\u001B[0m\u001B[0m\n\u001B[1;32m   2802\u001B[0m                 \u001B[0mindexer\u001B[0m \u001B[0;34m=\u001B[0m \u001B[0;34m[\u001B[0m\u001B[0mindexer\u001B[0m\u001B[0;34m]\u001B[0m\u001B[0;34m\u001B[0m\u001B[0;34m\u001B[0m\u001B[0m\n",
      "\u001B[0;32m~/opt/anaconda3/envs/mTurk/lib/python3.7/site-packages/pandas/core/indexes/base.py\u001B[0m in \u001B[0;36mget_loc\u001B[0;34m(self, key, method, tolerance)\u001B[0m\n\u001B[1;32m   2646\u001B[0m                 \u001B[0;32mreturn\u001B[0m \u001B[0mself\u001B[0m\u001B[0;34m.\u001B[0m\u001B[0m_engine\u001B[0m\u001B[0;34m.\u001B[0m\u001B[0mget_loc\u001B[0m\u001B[0;34m(\u001B[0m\u001B[0mkey\u001B[0m\u001B[0;34m)\u001B[0m\u001B[0;34m\u001B[0m\u001B[0;34m\u001B[0m\u001B[0m\n\u001B[1;32m   2647\u001B[0m             \u001B[0;32mexcept\u001B[0m \u001B[0mKeyError\u001B[0m\u001B[0;34m:\u001B[0m\u001B[0;34m\u001B[0m\u001B[0;34m\u001B[0m\u001B[0m\n\u001B[0;32m-> 2648\u001B[0;31m                 \u001B[0;32mreturn\u001B[0m \u001B[0mself\u001B[0m\u001B[0;34m.\u001B[0m\u001B[0m_engine\u001B[0m\u001B[0;34m.\u001B[0m\u001B[0mget_loc\u001B[0m\u001B[0;34m(\u001B[0m\u001B[0mself\u001B[0m\u001B[0;34m.\u001B[0m\u001B[0m_maybe_cast_indexer\u001B[0m\u001B[0;34m(\u001B[0m\u001B[0mkey\u001B[0m\u001B[0;34m)\u001B[0m\u001B[0;34m)\u001B[0m\u001B[0;34m\u001B[0m\u001B[0;34m\u001B[0m\u001B[0m\n\u001B[0m\u001B[1;32m   2649\u001B[0m         \u001B[0mindexer\u001B[0m \u001B[0;34m=\u001B[0m \u001B[0mself\u001B[0m\u001B[0;34m.\u001B[0m\u001B[0mget_indexer\u001B[0m\u001B[0;34m(\u001B[0m\u001B[0;34m[\u001B[0m\u001B[0mkey\u001B[0m\u001B[0;34m]\u001B[0m\u001B[0;34m,\u001B[0m \u001B[0mmethod\u001B[0m\u001B[0;34m=\u001B[0m\u001B[0mmethod\u001B[0m\u001B[0;34m,\u001B[0m \u001B[0mtolerance\u001B[0m\u001B[0;34m=\u001B[0m\u001B[0mtolerance\u001B[0m\u001B[0;34m)\u001B[0m\u001B[0;34m\u001B[0m\u001B[0;34m\u001B[0m\u001B[0m\n\u001B[1;32m   2650\u001B[0m         \u001B[0;32mif\u001B[0m \u001B[0mindexer\u001B[0m\u001B[0;34m.\u001B[0m\u001B[0mndim\u001B[0m \u001B[0;34m>\u001B[0m \u001B[0;36m1\u001B[0m \u001B[0;32mor\u001B[0m \u001B[0mindexer\u001B[0m\u001B[0;34m.\u001B[0m\u001B[0msize\u001B[0m \u001B[0;34m>\u001B[0m \u001B[0;36m1\u001B[0m\u001B[0;34m:\u001B[0m\u001B[0;34m\u001B[0m\u001B[0;34m\u001B[0m\u001B[0m\n",
      "\u001B[0;32mpandas/_libs/index.pyx\u001B[0m in \u001B[0;36mpandas._libs.index.IndexEngine.get_loc\u001B[0;34m()\u001B[0m\n",
      "\u001B[0;32mpandas/_libs/index.pyx\u001B[0m in \u001B[0;36mpandas._libs.index.IndexEngine.get_loc\u001B[0;34m()\u001B[0m\n",
      "\u001B[0;32mpandas/_libs/hashtable_class_helper.pxi\u001B[0m in \u001B[0;36mpandas._libs.hashtable.PyObjectHashTable.get_item\u001B[0;34m()\u001B[0m\n",
      "\u001B[0;32mpandas/_libs/hashtable_class_helper.pxi\u001B[0m in \u001B[0;36mpandas._libs.hashtable.PyObjectHashTable.get_item\u001B[0;34m()\u001B[0m\n",
      "\u001B[0;31mKeyError\u001B[0m: 'truAlpha'"
     ]
    }
   ],
   "source": [
    "scipy.stats.pearsonr(results['trueAlpha'],results['recovAlpha'])"
   ],
   "metadata": {
    "collapsed": false,
    "pycharm": {
     "name": "#%%\n"
    }
   }
  },
  {
   "cell_type": "code",
   "execution_count": null,
   "outputs": [],
   "source": [],
   "metadata": {
    "collapsed": false,
    "pycharm": {
     "name": "#%%\n"
    }
   }
  }
 ],
 "metadata": {
  "kernelspec": {
   "name": "pycharm-af21bf38",
   "language": "python",
   "display_name": "PyCharm (TheoryOfMind_Bx_experiment)"
  },
  "language_info": {
   "codemirror_mode": {
    "name": "ipython",
    "version": 2
   },
   "file_extension": ".py",
   "mimetype": "text/x-python",
   "name": "python",
   "nbconvert_exporter": "python",
   "pygments_lexer": "ipython2",
   "version": "2.7.6"
  }
 },
 "nbformat": 4,
 "nbformat_minor": 0
}