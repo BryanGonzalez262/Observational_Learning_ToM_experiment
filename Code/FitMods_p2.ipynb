{
 "cells": [
  {
   "cell_type": "markdown",
   "metadata": {
    "collapsed": true,
    "pycharm": {
     "name": "#%% md\n"
    }
   },
   "source": [
    "# Generative Performance\n",
    "## Fitting models to player 2 (Trustee)"
   ]
  },
  {
   "cell_type": "code",
   "execution_count": 27,
   "outputs": [],
   "source": [
    "import sys\n",
    "sys.path.append('/Users/bryangonzalez/Documents/Dartmouth/Research/TheoryOfMind_Bx_experiment/Code/models/')\n",
    "sys.path.append('/Users/bryangonzalez/Documents/Dartmouth/Research/TheoryOfMind_Bx_experiment/Code/')\n",
    "import pandas as pd\n",
    "import numpy as np\n",
    "from scipy.optimize import least_squares\n",
    "import p2_cost_funcs\n",
    "import comp_models\n",
    "from utils import compute_aic, compute_bic\n",
    "\n",
    "\n",
    "dat = pd.read_csv('../data/bx_data.csv', index_col=0)\n",
    "#dat = dat.rename(columns={'trustee_clust':'p2_strat'})\n",
    "#dat.to_csv('../data/bx_data.csv', sep=',')\n",
    "results = pd.DataFrame(columns=['p2', 'p3', 'p2_strat', 'model', 'param1', 'param2', 'sse', 'aic', 'bic', 'fit_method'])\n",
    "\n",
    "\n",
    "\n",
    "game = dat.loc[dat.turker_id == 3]\n",
    "niters = 10\n",
    "\n",
    "fitIters = np.zeros([niters, 5])"
   ],
   "metadata": {
    "collapsed": false,
    "pycharm": {
     "name": "#%%\n"
    }
   }
  },
  {
   "cell_type": "markdown",
   "source": [
    "## Fit Rescorla Wagner model to p2 to simulate RW agent performing task"
   ],
   "metadata": {
    "collapsed": false
   }
  },
  {
   "cell_type": "code",
   "execution_count": 29,
   "outputs": [],
   "source": [
    "#Fit\n",
    "for i in range(niters):\n",
    "    param0 = np.random.uniform()\n",
    "    fitIters[i,0:2] = [param0, np.nan]\n",
    "    result_lsq = least_squares(fun=p2_cost_funcs.rw_costfun, x0=param0, args=(game, ), bounds=(0,1))\n",
    "\n",
    "    param1 = result_lsq.x\n",
    "    cost = result_lsq.cost\n",
    "    fitIters[i, 2:5] = [param1, np.nan, cost]\n",
    "cost_selected = np.min(fitIters[:, 4])\n",
    "alpha = fitIters[fitIters[:,4]== cost_selected, 2][0]\n",
    "sse = cost_selected* 2\n",
    "results = results.append(pd.DataFrame(\n",
    "    [[game['trustee'].values[0], game['turker_id'].values[0], game['p2_strat'].values[0],\n",
    "      'rw', alpha,np.nan, sse, compute_aic(len(game), sse, 1), compute_bic(len(game), sse, 1),\n",
    "      'least_squares_'+str(niters)+'iters'\n",
    "      ]],\n",
    "    columns=results.columns\n",
    "))"
   ],
   "metadata": {
    "collapsed": false,
    "pycharm": {
     "name": "#%%\n"
    }
   }
  },
  {
   "cell_type": "code",
   "execution_count": 30,
   "outputs": [
    {
     "data": {
      "text/plain": "   p2 p3 p2_strat model   param1  param2          sse         aic         bic  \\\n0  81  3       GA    rw  0.35703     NaN  2012.598318  205.155444  207.198495   \n\n              fit_method  \n0  least_squares_10iters  ",
      "text/html": "<div>\n<style scoped>\n    .dataframe tbody tr th:only-of-type {\n        vertical-align: middle;\n    }\n\n    .dataframe tbody tr th {\n        vertical-align: top;\n    }\n\n    .dataframe thead th {\n        text-align: right;\n    }\n</style>\n<table border=\"1\" class=\"dataframe\">\n  <thead>\n    <tr style=\"text-align: right;\">\n      <th></th>\n      <th>p2</th>\n      <th>p3</th>\n      <th>p2_strat</th>\n      <th>model</th>\n      <th>param1</th>\n      <th>param2</th>\n      <th>sse</th>\n      <th>aic</th>\n      <th>bic</th>\n      <th>fit_method</th>\n    </tr>\n  </thead>\n  <tbody>\n    <tr>\n      <th>0</th>\n      <td>81</td>\n      <td>3</td>\n      <td>GA</td>\n      <td>rw</td>\n      <td>0.35703</td>\n      <td>NaN</td>\n      <td>2012.598318</td>\n      <td>205.155444</td>\n      <td>207.198495</td>\n      <td>least_squares_10iters</td>\n    </tr>\n  </tbody>\n</table>\n</div>"
     },
     "execution_count": 30,
     "metadata": {},
     "output_type": "execute_result"
    }
   ],
   "source": [],
   "metadata": {
    "collapsed": false,
    "pycharm": {
     "name": "#%%\n"
    }
   }
  }
 ],
 "metadata": {
  "kernelspec": {
   "name": "pycharm-af21bf38",
   "language": "python",
   "display_name": "PyCharm (TheoryOfMind_Bx_experiment)"
  },
  "language_info": {
   "codemirror_mode": {
    "name": "ipython",
    "version": 2
   },
   "file_extension": ".py",
   "mimetype": "text/x-python",
   "name": "python",
   "nbconvert_exporter": "python",
   "pygments_lexer": "ipython2",
   "version": "2.7.6"
  }
 },
 "nbformat": 4,
 "nbformat_minor": 0
}